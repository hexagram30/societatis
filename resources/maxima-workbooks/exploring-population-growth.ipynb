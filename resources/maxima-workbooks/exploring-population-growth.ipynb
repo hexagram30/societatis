{
 "cells": [
  {
   "cell_type": "markdown",
   "metadata": {},
   "source": [
    "![hexagram30 logo](https://raw.githubusercontent.com/hexagram30/resources/master/branding/logo/h30-logo-2-long-with-text-x695.png)\n",
    "\n",
    "# Exploring Poplation Growth\n",
    "\n",
    "## Notes\n",
    "\n",
    "This notebook uses [Maxima](http://maxima.sourceforge.net/) and the [Maxima Jupyter kernel](https://github.com/robert-dodier/maxima-jupyter). The notebook was created to document an effort to build a societal/civilzation model for [Hexagram30](https://github.com/hexagram30/societatis). \n",
    "\n",
    "## Contents\n",
    "\n",
    "1. [Rate of Growth, Try 1](Rate%20of%20Growth%2C%20Try%201.ipynb)\n",
    "1. [Rate of Growth, Try 2](Rate%20of%20Growth%2C%20Try%202.ipynb)\n",
    "1. [Food as a Limiting Factor](Food%20as%20a%20Limiting%20Factor.ipynb)\n",
    "1. [Damped Second-Order System](Damped%20Second-Order.ipynb)\n",
    "1. [Damped Growth](Damped%20Growth.ipynb)"
   ]
  },
  {
   "cell_type": "code",
   "execution_count": null,
   "metadata": {},
   "outputs": [],
   "source": []
  }
 ],
 "metadata": {
  "celltoolbar": "Raw Cell Format",
  "kernelspec": {
   "display_name": "Maxima",
   "language": "maxima",
   "name": "maxima"
  },
  "language_info": {
   "codemirror_mode": "maxima",
   "file_extension": ".mac",
   "mimetype": "text/x-maxima",
   "name": "maxima",
   "pygments_lexer": "maxima",
   "version": "5.42.1"
  }
 },
 "nbformat": 4,
 "nbformat_minor": 2
}
