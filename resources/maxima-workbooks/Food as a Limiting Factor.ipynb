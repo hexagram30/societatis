{
 "cells": [
  {
   "cell_type": "markdown",
   "metadata": {},
   "source": [
    "![hexagram30 small logo](https://avatars3.githubusercontent.com/u/37125516?s=100&v=4)\n",
    "\n",
    "# Food as a Limiting Factor\n",
    "\n",
    "## Hunter-Gatherers\n",
    "\n",
    "Below is a collection of graphs from a paper by Gary Belovsky on population dynamics in hunter-gatherer societies, In particular, the four graphs examine population growth over hundreds of years, where a periods of increase and decline is approximately 90 years. The differences in the graphs are the grams nutrients per square meter available to the hunter-gather groups.\n",
    "\n",
    "![Screen%20Shot%202019-01-20%20at%2011.42.11%20PM.png](attachment:Screen%20Shot%202019-01-20%20at%2011.42.11%20PM.png)\n",
    "\n",
    "_Source_: Belovsky, Gary. (1988). An optimal foraging-based model of hunter-gatherer population dynamics. Journal of Anthropological Archaeology, 7, 343. doi: 10.1016/0278-4165(88)90002-5\n",
    "\n",
    "More to come on the limiting factor of food in a population ..."
   ]
  },
  {
   "cell_type": "code",
   "execution_count": null,
   "metadata": {},
   "outputs": [],
   "source": []
  }
 ],
 "metadata": {
  "kernelspec": {
   "display_name": "Maxima",
   "language": "maxima",
   "name": "maxima"
  },
  "language_info": {
   "codemirror_mode": "maxima",
   "file_extension": ".mac",
   "mimetype": "text/x-maxima",
   "name": "maxima",
   "pygments_lexer": "maxima",
   "version": "5.42.1"
  }
 },
 "nbformat": 4,
 "nbformat_minor": 2
}
